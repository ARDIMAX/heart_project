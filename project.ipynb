{
 "cells": [
  {
   "metadata": {},
   "cell_type": "markdown",
   "source": [
    "# Описание проекта\n",
    "В этом проекте нам предстоит разработать модель для предсказания риска сердечного приступа, используя данные пациентов, такие как возраст, привычки, состояние здоровья и результаты анализа крови, а также сделать для нее приложение на FastAPI или аналогичном фреймворке для получения предсказаний по пользовательскому запросу."
   ],
   "id": "8a77807f92f26ee"
  },
  {
   "metadata": {},
   "cell_type": "markdown",
   "source": "## Загрузка данных",
   "id": "721c03a66199b003"
  },
  {
   "metadata": {},
   "cell_type": "markdown",
   "source": [
    "<div style=\"background-color:lavender; color:#black; text-align:left; padding:2%\">\n",
    "<font size=\"4\", color= \"black\">Выполним необходимые импорты</font>"
   ],
   "id": "234fb5af6c2d9878"
  },
  {
   "metadata": {},
   "cell_type": "code",
   "outputs": [],
   "execution_count": null,
   "source": [
    "import pandas as pd\n",
    "import matplotlib.pyplot as plt\n",
    "import seaborn as sns\n",
    "import numpy as np\n",
    "import sklearn\n",
    "import scipy.stats as st\n",
    "import phik"
   ],
   "id": "fbc121e30a2defb3"
  },
  {
   "metadata": {},
   "cell_type": "code",
   "outputs": [],
   "execution_count": null,
   "source": "RANDOM_STATE = 42",
   "id": "7ba60d788049aa3b"
  },
  {
   "metadata": {},
   "cell_type": "code",
   "outputs": [],
   "execution_count": null,
   "source": [
    "DEFAULT_PALETTE = [\n",
    "    \"#FF9999\",  # розовый\n",
    "    \"#66B3FF\",  # голубой\n",
    "    \"#99FF99\",  # салатовый\n",
    "    \"#FFCC99\",  # персиковый\n",
    "    \"#ff8c69\",  # лососевый\n",
    "    \"#acb78e\",  # болотный\n",
    "    # можно добавить ещё цвета при необходимости\n",
    "]"
   ],
   "id": "56a958dc5cdae3db"
  }
 ],
 "metadata": {
  "kernelspec": {
   "display_name": "Python 3",
   "language": "python",
   "name": "python3"
  },
  "language_info": {
   "codemirror_mode": {
    "name": "ipython",
    "version": 2
   },
   "file_extension": ".py",
   "mimetype": "text/x-python",
   "name": "python",
   "nbconvert_exporter": "python",
   "pygments_lexer": "ipython2",
   "version": "2.7.6"
  }
 },
 "nbformat": 4,
 "nbformat_minor": 5
}
